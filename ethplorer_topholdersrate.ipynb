{
  "nbformat": 4,
  "nbformat_minor": 0,
  "metadata": {
    "colab": {
      "name": "ethplorer_topholdersrate.ipynb",
      "private_outputs": true,
      "provenance": [],
      "collapsed_sections": [],
      "authorship_tag": "ABX9TyO0LdmZ9w41WpMRHiJmGdW8",
      "include_colab_link": true
    },
    "kernelspec": {
      "name": "python3",
      "display_name": "Python 3"
    },
    "language_info": {
      "name": "python"
    }
  },
  "cells": [
    {
      "cell_type": "markdown",
      "metadata": {
        "id": "view-in-github",
        "colab_type": "text"
      },
      "source": [
        "<a href=\"https://colab.research.google.com/github/s3woo/abcd1234/blob/main/ethplorer_topholdersrate.ipynb\" target=\"_parent\"><img src=\"https://colab.research.google.com/assets/colab-badge.svg\" alt=\"Open In Colab\"/></a>"
      ]
    },
    {
      "cell_type": "code",
      "metadata": {
        "id": "25PqyKRo2KJB"
      },
      "source": [
        "from requests import Request, Session\n",
        "from requests.exceptions import ConnectionError, Timeout, TooManyRedirects\n",
        "import pandas as pd\n",
        "import json\n",
        "from bs4 import BeautifulSoup\n",
        "import re # 추가\n",
        "from urllib.request import urlopen\n",
        "import requests\n",
        "\n",
        "csv_test = pd.read_csv('result.csv')\n",
        "datas = csv_test.to_dict('records')\n",
        "# https://api.ethplorer.io/getTopTokenHolders/0x2b591e99afE9f32eAA6214f7B7629768c40Eeb39?apiKey=freekey\n",
        "token = 'EK-4L18F-Y2jC1b7-9qC3N'\n",
        "for data in datas:\n",
        "    line = data['platform.token_address']       \n",
        "    print (line)\n",
        "    repos_url = 'https://api.ethplorer.io/getTopTokenHolders/'+line+'?apiKey='+token\n",
        "    \n",
        "\n",
        "# create a re-usable session object with the user creds in-built\n",
        "    gh_session = requests.Session()\n",
        "#    gh_session.auth = (username, token)\n",
        "\n",
        "    repos = json.loads(gh_session.get(repos_url).text) # json으로 뽑아오자\n",
        "    total = 0\n",
        "    try:\n",
        "        for holder in repos['holders']:\n",
        "            print(holder['share'])\n",
        "            total += holder['share']\n",
        "    except:\n",
        "        print ('error')\n",
        "        total = 'error'   \n",
        "\n",
        "    data['top_holders_rate'] = total\n",
        "\n",
        "df = pd.DataFrame(datas)\n",
        "df.to_csv(\"addtopholdersrate.csv\")\n",
        "    \n",
        "   # print (aa['share'])\n"
      ],
      "execution_count": null,
      "outputs": []
    },
    {
      "cell_type": "code",
      "metadata": {
        "id": "pW0Jfw9W4xj6"
      },
      "source": [
        "from requests import Request, Session\n",
        "from requests.exceptions import ConnectionError, Timeout, TooManyRedirects\n",
        "import pandas as pd\n",
        "import json\n",
        "from bs4 import BeautifulSoup\n",
        "import re # 추가\n",
        "from urllib.request import urlopen\n",
        "import requests\n",
        "\n",
        "csv_test = pd.read_csv('result.csv')\n",
        "datas = csv_test.to_dict('records')\n",
        "# https://api.ethplorer.io/getTokenInfo/0x7f3edcdd180dbe4819bd98fee8929b5cedb3adeb?apiKey=EK-4L18F-Y2jC1b7-9qC3N\n",
        "token = 'EK-4L18F-Y2jC1b7-9qC3N'\n",
        "for data in datas:\n",
        "    line = data['platform.token_address']       \n",
        "    print (line)\n",
        "    repos_url = 'https://api.ethplorer.io/getTokenInfo/'+line+'?apiKey='+token\n",
        "    \n",
        "\n",
        "# create a re-usable session object with the user creds in-built\n",
        "    gh_session = requests.Session()\n",
        "#    gh_session.auth = (username, token)\n",
        "\n",
        "    repos = json.loads(gh_session.get(repos_url).text) # json으로 뽑아오자\n",
        "    try:\n",
        "        print (repos['holdersCount'])\n",
        "        total = repos['holdersCount']\n",
        "    except:\n",
        "        print ('error')\n",
        "        total = 'error'   \n",
        "\n",
        "    data['holders_count'] = total\n",
        "\n",
        "df = pd.DataFrame(datas)\n",
        "df.to_csv(\"addholders.csv\")\n",
        "    \n",
        "   # print (aa['share'])\n"
      ],
      "execution_count": null,
      "outputs": []
    },
    {
      "cell_type": "code",
      "metadata": {
        "id": "eGLEklsh_ZVA"
      },
      "source": [
        "print (repos['holdersCount'])"
      ],
      "execution_count": null,
      "outputs": []
    },
    {
      "cell_type": "code",
      "metadata": {
        "id": "kLSZqBh8xWLF"
      },
      "source": [
        "from requests import Request, Session\n",
        "from requests.exceptions import ConnectionError, Timeout, TooManyRedirects\n",
        "import pandas as pd\n",
        "import json\n",
        "from bs4 import BeautifulSoup\n",
        "import re # 추가\n",
        "from urllib.request import urlopen\n",
        "import requests\n",
        "import time\n",
        "\n",
        "\n",
        "\n",
        "\n",
        "csv_test = pd.read_csv('addHoldersRate.csv')\n",
        "datas = csv_test.to_dict('records')\n",
        "# https://api.etherscan.io/api?module=contract&action=getabi&address='+line+'&apikey='+token\n",
        "token = 'VFQIHCD19UDTRRDQUYF19HZK3QS1Y8ZXBF'\n",
        "\n",
        "for data in datas:\n",
        "    line = data['platform.token_address']       \n",
        "    print (line)\n",
        "    #repos_url = 'https://api.etherscan.io/api?module=contract&action=getabi&address='+line+'&apikey='+token\n",
        "    repos_url = 'https://api.etherscan.io/api?module=contract&action=getsourcecode&address='+line+'&apikey='+token\n",
        "\n",
        "\n",
        "\n",
        "    # create a re-usable session object with the user creds in-built\n",
        "    gh_session = requests.Session()\n",
        "    #    gh_session.auth = (username, token)\n",
        "\n",
        "    repos = json.loads(gh_session.get(repos_url).text) # json으로 뽑아오자\n",
        "    time.sleep(0.5)\n",
        "    print(repos['result'])\n",
        "\n",
        "\n",
        "'''\n",
        "    try:\n",
        "        print (repos['holdersCount'])\n",
        "        total = repos['holdersCount']\n",
        "    except:\n",
        "        print ('error')\n",
        "        total = 'error'   \n",
        "\n",
        "    data['holders_count'] = total\n",
        "\n",
        "df = pd.DataFrame(datas)\n",
        "df.to_csv(\"addholders.csv\")\n",
        "    \n",
        "   # print (aa['share'])\n",
        "'''"
      ],
      "execution_count": null,
      "outputs": []
    },
    {
      "cell_type": "code",
      "metadata": {
        "id": "2DwKscRJz5VE"
      },
      "source": [
        "https://api.etherscan.io/api\n",
        "   ?module=contract\n",
        "   &action=getabi\n",
        "   &address=0xBB9bc244D798123fDe783fCc1C72d3Bb8C189413\n",
        "   &apikey=VFQIHCD19UDTRRDQUYF19HZK3QS1Y8ZXBF"
      ],
      "execution_count": null,
      "outputs": []
    }
  ]
}